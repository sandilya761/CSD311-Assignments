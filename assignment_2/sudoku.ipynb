{
 "cells": [
  {
   "cell_type": "code",
   "execution_count": 1,
   "metadata": {},
   "outputs": [],
   "source": [
    "def cartesian_product(x,y):\n",
    "    \n",
    "    return [a+b for a in x for b in y] \n",
    "# takes two iterable values and return the cartesian product in a list\n"
   ]
  },
  {
   "cell_type": "code",
   "execution_count": 2,
   "metadata": {},
   "outputs": [],
   "source": [
    "# displays the game board\n",
    "\n",
    "def display_game_board(values):\n",
    "    \n",
    "    print('')\n",
    "    \n",
    "    rows = 'ABCDEFGHI'\n",
    "    cols = '123456789'\n",
    "    boxes = cartesian_product(rows, cols)\n",
    "    \n",
    "    width = 1+max(len(values[s]) for s in boxes)\n",
    "    line = '+'.join(['-'*(width*3)]*3)\n",
    "    for r in rows:\n",
    "        print(''.join(values[r+c].center(width)+('|' if c in '36' else '')\n",
    "                    for c in cols))\n",
    "        if r in 'CF': print(line)\n",
    "    return"
   ]
  },
  {
   "cell_type": "code",
   "execution_count": 3,
   "metadata": {},
   "outputs": [],
   "source": [
    "# elimination function eliminates the possible values according to the rules to get a simplified version of the puzzle.\n",
    "def eliminate(Grid):\n",
    "    for k,v in Grid.items():\n",
    "        if len(v) != 1: #  checks if the box needs elimination\n",
    "            peers = peer_dict[k]    # takes all the peers\n",
    "            peer_values = set([Grid[p] for p in peers if len(Grid[p]) == 1])\n",
    "            Grid[k] = ''.join(set(Grid[k]) - peer_values)\n",
    "    return Grid"
   ]
  },
  {
   "cell_type": "code",
   "execution_count": 4,
   "metadata": {},
   "outputs": [],
   "source": [
    "# checks the places the number if the there is only one choice to place it \n",
    "def choice(Grid):\n",
    "    for unit in unit_list:\n",
    "        for num in '123456789':\n",
    "            num_places = [box for box in unit if num in Grid[box]]\n",
    "            if len(num_places) == 1:\n",
    "                Grid[num_places[0]] = num\n",
    "    return Grid"
   ]
  },
  {
   "cell_type": "code",
   "execution_count": 5,
   "metadata": {},
   "outputs": [],
   "source": [
    "# Kindly check the documentation to know about naked_pairs\n",
    "\n",
    "def naked_pairs(Grid):\n",
    "    for unit in unit_list:\n",
    "        \n",
    "        # slice the Grid to contain only the boxes in the unit\n",
    "        values = dict([[box, ''.join(sorted(Grid[box]))] for box in unit])\n",
    "        \n",
    "        # find all the items with 2-digit values\n",
    "        double_digits = dict([[box, values[box]] for box in values if len(values[box])==2])\n",
    "        \n",
    "        # check if any of those 2-digit values occur exactly twice\n",
    "        double_digits_occuring_twice = dict([[box, val] for box, val in double_digits.items() if list(double_digits.values()).count(val)==2])\n",
    "        \n",
    "        if len(double_digits_occuring_twice.items()) != 0:\n",
    "            # reverse the dictionary to get the key-pairs easily\n",
    "            reverse_dict = {}\n",
    "            for k, v in double_digits_occuring_twice.items():\n",
    "                reverse_dict.setdefault(v, []).append(k)\n",
    "\n",
    "            # it is a list of 2 items(keys | boxes) only\n",
    "            naked_pairs = list(reverse_dict.items())[0][1]\n",
    "\n",
    "            # remove the naked_pairs digits from other boxes in the unit\n",
    "            for k,v in values.items():\n",
    "                if (k not in naked_pairs) and (len(v) > 1):\n",
    "                    values[k] = ''.join(set(values[k]) - set(values[naked_pairs[0]]))\n",
    "    \n",
    "        # replace the values in Grid with the updated values\n",
    "        for k,v in values.items():\n",
    "            Grid[k] = v\n",
    "    \n",
    "    return Grid\n"
   ]
  },
  {
   "cell_type": "code",
   "execution_count": 6,
   "metadata": {},
   "outputs": [],
   "source": [
    "def run(Grid):\n",
    "    stuck = False\n",
    "    while not stuck:\n",
    "        # Check how many boxes have a fixed value\n",
    "        previous_solved = len([box for box in Grid.keys() if len(Grid[box]) == 1])\n",
    "        \n",
    "        \n",
    "        Grid = eliminate(Grid)\n",
    "        \n",
    "        \n",
    "        Grid = choice(Grid)\n",
    "        \n",
    "        \n",
    "        Grid = naked_pairs(Grid)\n",
    "        \n",
    "        # Check how many boxes have a value, to compare\n",
    "        post_solved_values = len([box for box in Grid.keys() if len(Grid[box]) == 1])\n",
    "        \n",
    "        # If no new values were added, stop the loop.\n",
    "        stuck = previous_solved == post_solved_values\n",
    "        \n",
    "        \n",
    "        # if the current sudoku board is cannot be solved then return False\n",
    "        if len([box for box in Grid.keys() if len(Grid[box]) == 0]):\n",
    "            return False \n",
    "    return Grid\n"
   ]
  },
  {
   "cell_type": "code",
   "execution_count": 7,
   "metadata": {},
   "outputs": [],
   "source": [
    "\n",
    "def search(Grid):\n",
    "    Grid = run(Grid)\n",
    "    \n",
    "    if Grid is False:\n",
    "        return False\n",
    "    \n",
    "    if all(len(v) == 1 for k,v in Grid.items()): \n",
    "        return Grid\n",
    "    \n",
    "    # Choose one of the unfilled squares with the fewest possibilities\n",
    "    length,k = min((len(val), key) for key,val in Grid.items() if len(val) > 1)\n",
    "    # print(k, length)\n",
    "    \n",
    "    # Now use recurrence to solve each one of the resulting sudoku\n",
    "    for digit in Grid[k]:\n",
    "        new_sudoku = dict(list(Grid.items()))\n",
    "        new_sudoku[k] = digit\n",
    "        attempt = search(new_sudoku)\n",
    "        if attempt:\n",
    "            return attempt"
   ]
  },
  {
   "cell_type": "code",
   "execution_count": 8,
   "metadata": {
    "scrolled": false
   },
   "outputs": [
    {
     "name": "stdout",
     "output_type": "stream",
     "text": [
      "\n",
      "8 1 4 |2 5 3 |6 9 7 \n",
      "9 2 3 |6 7 8 |1 5 4 \n",
      "5 7 6 |4 9 1 |2 8 3 \n",
      "------+------+------\n",
      "3 5 2 |9 6 7 |8 4 1 \n",
      "1 8 9 |3 4 5 |7 2 6 \n",
      "4 6 7 |1 8 2 |9 3 5 \n",
      "------+------+------\n",
      "2 4 1 |7 3 9 |5 6 8 \n",
      "7 6 8 |5 2 4 |3 1 9 \n",
      "3 9 5 |8 1 6 |4 7 2 \n"
     ]
    }
   ],
   "source": [
    "if __name__ == '__main__':\n",
    "    \n",
    "    \n",
    "    start = '8xxxxxxxxxx36xxxxxx7xx9x2xxx5xxx7xxxxxxx457xxxxx1xxx3xxx1xxxx68xx85xxx1xx9xxxx4xx'\n",
    "    #start = '..3.2.6..9..3.5..1..18.64....81.29..7.......8..67.82....26.95..8..2.3..9..5.1.3..'\n",
    "    \n",
    "    rows = 'ABCDEFGHI'\n",
    "    cols = '123456789'\n",
    "    boxes = cartesian_product(rows, cols)\n",
    "\n",
    "    row_units = [cartesian_product(r, cols) for r in rows]\n",
    "    col_units = [cartesian_product(rows, c) for c in cols]\n",
    "    box_units = [cartesian_product(r,c) \n",
    "                    for r in ['ABC', 'DEF', 'GHI'] \n",
    "                    for c in ['123','456','789']]\n",
    "\n",
    "    unit_list = row_units + col_units + box_units\n",
    "\n",
    "    # each box(key) with its units(value)\n",
    "    unit_dict = dict((box, [unit for unit in unit_list if box in unit]) for box in boxes)\n",
    "    \n",
    "    # each box with its peers\n",
    "    peer_dict = dict((box, set(sum(unit_dict[box], [])) - set([box])) for box in boxes)\n",
    "\n",
    "    # start string converted to dictionary\n",
    "    assert len(start) == 81\n",
    "    Grid = dict(zip(boxes, start))\n",
    "\n",
    "    # replacing the x with '123456789' (possible values in the box)\n",
    "    for k,v in Grid.items():\n",
    "        if v == 'x':\n",
    "            Grid[k] = '123456789'\n",
    "            \n",
    "    solved_grid = search(Grid)\n",
    "    \n",
    "    display_game_board(solved_grid)"
   ]
  },
  {
   "cell_type": "code",
   "execution_count": 9,
   "metadata": {},
   "outputs": [],
   "source": [
    "#new_grid = eliminate(Grid)"
   ]
  },
  {
   "cell_type": "code",
   "execution_count": 10,
   "metadata": {},
   "outputs": [],
   "source": [
    "#display_game_board(new_grid)"
   ]
  },
  {
   "cell_type": "code",
   "execution_count": 11,
   "metadata": {},
   "outputs": [],
   "source": [
    "#display_game_board(naked_dict)"
   ]
  },
  {
   "cell_type": "code",
   "execution_count": 12,
   "metadata": {},
   "outputs": [],
   "source": [
    "#display_game_board(Grid)"
   ]
  }
 ],
 "metadata": {
  "kernelspec": {
   "display_name": "Python 3",
   "language": "python",
   "name": "python3"
  },
  "language_info": {
   "codemirror_mode": {
    "name": "ipython",
    "version": 3
   },
   "file_extension": ".py",
   "mimetype": "text/x-python",
   "name": "python",
   "nbconvert_exporter": "python",
   "pygments_lexer": "ipython3",
   "version": "3.9.1"
  }
 },
 "nbformat": 4,
 "nbformat_minor": 4
}
